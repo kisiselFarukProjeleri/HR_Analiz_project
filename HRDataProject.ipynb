{
 "cells": [
  {
   "cell_type": "code",
   "execution_count": 2,
   "metadata": {},
   "outputs": [],
   "source": [
    "import numpy as np\n",
    "import pandas as pd\n",
    "import matplotlib.pyplot as plt\n",
    "import seaborn as sns"
   ]
  },
  {
   "cell_type": "code",
   "execution_count": 3,
   "metadata": {},
   "outputs": [],
   "source": [
    "dosya_yolu='/workspaces/HR_Analiz_project/hr_dataset.csv'\n",
    "df =pd.read_csv(dosya_yolu)"
   ]
  },
  {
   "cell_type": "code",
   "execution_count": 4,
   "metadata": {},
   "outputs": [
    {
     "data": {
      "text/html": [
       "<div>\n",
       "<style scoped>\n",
       "    .dataframe tbody tr th:only-of-type {\n",
       "        vertical-align: middle;\n",
       "    }\n",
       "\n",
       "    .dataframe tbody tr th {\n",
       "        vertical-align: top;\n",
       "    }\n",
       "\n",
       "    .dataframe thead th {\n",
       "        text-align: right;\n",
       "    }\n",
       "</style>\n",
       "<table border=\"1\" class=\"dataframe\">\n",
       "  <thead>\n",
       "    <tr style=\"text-align: right;\">\n",
       "      <th></th>\n",
       "      <th>Employee_ID</th>\n",
       "      <th>Name</th>\n",
       "      <th>Age</th>\n",
       "      <th>Gender</th>\n",
       "      <th>Department</th>\n",
       "      <th>Position</th>\n",
       "      <th>Years_at_Company</th>\n",
       "      <th>Salary</th>\n",
       "      <th>Education_Level</th>\n",
       "      <th>Performance_Score</th>\n",
       "      <th>...</th>\n",
       "      <th>Remote_Work</th>\n",
       "      <th>Sick_Days_in_Last_Year</th>\n",
       "      <th>Promotion_Last_5_Years</th>\n",
       "      <th>Left_Company</th>\n",
       "      <th>Work_Life_Balance_Score</th>\n",
       "      <th>Job_Satisfaction_Score</th>\n",
       "      <th>Previous_Employer_Count</th>\n",
       "      <th>Favorite_Color</th>\n",
       "      <th>Hobby</th>\n",
       "      <th>Estimated_Annual_Bonus</th>\n",
       "    </tr>\n",
       "  </thead>\n",
       "  <tbody>\n",
       "    <tr>\n",
       "      <th>0</th>\n",
       "      <td>1</td>\n",
       "      <td>Hüseyin</td>\n",
       "      <td>57.0</td>\n",
       "      <td>Male</td>\n",
       "      <td>Sales</td>\n",
       "      <td>Senior</td>\n",
       "      <td>38</td>\n",
       "      <td>NaN</td>\n",
       "      <td>Master</td>\n",
       "      <td>3</td>\n",
       "      <td>...</td>\n",
       "      <td>True</td>\n",
       "      <td>0</td>\n",
       "      <td>True</td>\n",
       "      <td>False</td>\n",
       "      <td>2</td>\n",
       "      <td>4</td>\n",
       "      <td>9</td>\n",
       "      <td>Green</td>\n",
       "      <td>Gaming</td>\n",
       "      <td>NaN</td>\n",
       "    </tr>\n",
       "    <tr>\n",
       "      <th>1</th>\n",
       "      <td>2</td>\n",
       "      <td>Fatma</td>\n",
       "      <td>NaN</td>\n",
       "      <td>Male</td>\n",
       "      <td>Marketing</td>\n",
       "      <td>Manager</td>\n",
       "      <td>8</td>\n",
       "      <td>54234.0</td>\n",
       "      <td>PhD</td>\n",
       "      <td>3</td>\n",
       "      <td>...</td>\n",
       "      <td>False</td>\n",
       "      <td>10</td>\n",
       "      <td>True</td>\n",
       "      <td>True</td>\n",
       "      <td>5</td>\n",
       "      <td>7</td>\n",
       "      <td>0</td>\n",
       "      <td>Yellow</td>\n",
       "      <td>Traveling</td>\n",
       "      <td>5193.274541</td>\n",
       "    </tr>\n",
       "    <tr>\n",
       "      <th>2</th>\n",
       "      <td>3</td>\n",
       "      <td>Ali</td>\n",
       "      <td>49.0</td>\n",
       "      <td>Male</td>\n",
       "      <td>Marketing</td>\n",
       "      <td>Intern</td>\n",
       "      <td>17</td>\n",
       "      <td>NaN</td>\n",
       "      <td>Bachelor</td>\n",
       "      <td>4</td>\n",
       "      <td>...</td>\n",
       "      <td>False</td>\n",
       "      <td>8</td>\n",
       "      <td>True</td>\n",
       "      <td>True</td>\n",
       "      <td>6</td>\n",
       "      <td>8</td>\n",
       "      <td>5</td>\n",
       "      <td>White</td>\n",
       "      <td>Music</td>\n",
       "      <td>NaN</td>\n",
       "    </tr>\n",
       "    <tr>\n",
       "      <th>3</th>\n",
       "      <td>4</td>\n",
       "      <td>Hüseyin</td>\n",
       "      <td>36.0</td>\n",
       "      <td>Male</td>\n",
       "      <td>IT</td>\n",
       "      <td>Junior</td>\n",
       "      <td>35</td>\n",
       "      <td>126284.0</td>\n",
       "      <td>PhD</td>\n",
       "      <td>3</td>\n",
       "      <td>...</td>\n",
       "      <td>True</td>\n",
       "      <td>6</td>\n",
       "      <td>True</td>\n",
       "      <td>True</td>\n",
       "      <td>3</td>\n",
       "      <td>9</td>\n",
       "      <td>3</td>\n",
       "      <td>Black</td>\n",
       "      <td>Sports</td>\n",
       "      <td>9139.923382</td>\n",
       "    </tr>\n",
       "    <tr>\n",
       "      <th>4</th>\n",
       "      <td>5</td>\n",
       "      <td>Mehmet</td>\n",
       "      <td>23.0</td>\n",
       "      <td>Male</td>\n",
       "      <td>Finance</td>\n",
       "      <td>Senior</td>\n",
       "      <td>39</td>\n",
       "      <td>52322.0</td>\n",
       "      <td>Master</td>\n",
       "      <td>1</td>\n",
       "      <td>...</td>\n",
       "      <td>False</td>\n",
       "      <td>13</td>\n",
       "      <td>False</td>\n",
       "      <td>False</td>\n",
       "      <td>2</td>\n",
       "      <td>5</td>\n",
       "      <td>7</td>\n",
       "      <td>Red</td>\n",
       "      <td>Traveling</td>\n",
       "      <td>2963.943736</td>\n",
       "    </tr>\n",
       "  </tbody>\n",
       "</table>\n",
       "<p>5 rows × 23 columns</p>\n",
       "</div>"
      ],
      "text/plain": [
       "   Employee_ID     Name   Age Gender Department Position  Years_at_Company  \\\n",
       "0            1  Hüseyin  57.0   Male      Sales   Senior                38   \n",
       "1            2    Fatma   NaN   Male  Marketing  Manager                 8   \n",
       "2            3      Ali  49.0   Male  Marketing   Intern                17   \n",
       "3            4  Hüseyin  36.0   Male         IT   Junior                35   \n",
       "4            5   Mehmet  23.0   Male    Finance   Senior                39   \n",
       "\n",
       "     Salary Education_Level  Performance_Score  ... Remote_Work  \\\n",
       "0       NaN          Master                  3  ...        True   \n",
       "1   54234.0             PhD                  3  ...       False   \n",
       "2       NaN        Bachelor                  4  ...       False   \n",
       "3  126284.0             PhD                  3  ...        True   \n",
       "4   52322.0          Master                  1  ...       False   \n",
       "\n",
       "   Sick_Days_in_Last_Year  Promotion_Last_5_Years  Left_Company  \\\n",
       "0                       0                    True         False   \n",
       "1                      10                    True          True   \n",
       "2                       8                    True          True   \n",
       "3                       6                    True          True   \n",
       "4                      13                   False         False   \n",
       "\n",
       "   Work_Life_Balance_Score  Job_Satisfaction_Score  Previous_Employer_Count  \\\n",
       "0                        2                       4                        9   \n",
       "1                        5                       7                        0   \n",
       "2                        6                       8                        5   \n",
       "3                        3                       9                        3   \n",
       "4                        2                       5                        7   \n",
       "\n",
       "   Favorite_Color      Hobby  Estimated_Annual_Bonus  \n",
       "0           Green     Gaming                     NaN  \n",
       "1          Yellow  Traveling             5193.274541  \n",
       "2           White      Music                     NaN  \n",
       "3           Black     Sports             9139.923382  \n",
       "4             Red  Traveling             2963.943736  \n",
       "\n",
       "[5 rows x 23 columns]"
      ]
     },
     "execution_count": 4,
     "metadata": {},
     "output_type": "execute_result"
    }
   ],
   "source": [
    "df.head()"
   ]
  },
  {
   "cell_type": "markdown",
   "metadata": {},
   "source": [
    "# veri setini keşfe edelim"
   ]
  },
  {
   "cell_type": "code",
   "execution_count": 5,
   "metadata": {},
   "outputs": [
    {
     "name": "stdout",
     "output_type": "stream",
     "text": [
      "<class 'pandas.core.frame.DataFrame'>\n",
      "RangeIndex: 10000 entries, 0 to 9999\n",
      "Data columns (total 23 columns):\n",
      " #   Column                   Non-Null Count  Dtype  \n",
      "---  ------                   --------------  -----  \n",
      " 0   Employee_ID              10000 non-null  int64  \n",
      " 1   Name                     10000 non-null  object \n",
      " 2   Age                      9500 non-null   float64\n",
      " 3   Gender                   10000 non-null  object \n",
      " 4   Department               9700 non-null   object \n",
      " 5   Position                 10000 non-null  object \n",
      " 6   Years_at_Company         10000 non-null  int64  \n",
      " 7   Salary                   9000 non-null   float64\n",
      " 8   Education_Level          10000 non-null  object \n",
      " 9   Performance_Score        10000 non-null  int64  \n",
      " 10  Marital_Status           10000 non-null  object \n",
      " 11  Has_Children             10000 non-null  bool   \n",
      " 12  Working_Hours_per_Week   10000 non-null  int64  \n",
      " 13  Remote_Work              10000 non-null  bool   \n",
      " 14  Sick_Days_in_Last_Year   10000 non-null  int64  \n",
      " 15  Promotion_Last_5_Years   10000 non-null  bool   \n",
      " 16  Left_Company             10000 non-null  bool   \n",
      " 17  Work_Life_Balance_Score  10000 non-null  int64  \n",
      " 18  Job_Satisfaction_Score   10000 non-null  int64  \n",
      " 19  Previous_Employer_Count  10000 non-null  int64  \n",
      " 20  Favorite_Color           10000 non-null  object \n",
      " 21  Hobby                    10000 non-null  object \n",
      " 22  Estimated_Annual_Bonus   9000 non-null   float64\n",
      "dtypes: bool(4), float64(3), int64(8), object(8)\n",
      "memory usage: 1.5+ MB\n"
     ]
    }
   ],
   "source": [
    "df.info()"
   ]
  },
  {
   "cell_type": "markdown",
   "metadata": {},
   "source": [
    "# açıklayıcı istatiksel bilgilere bakıyoruz"
   ]
  },
  {
   "cell_type": "markdown",
   "metadata": {},
   "source": [
    "açıklayıcı istatiksel bilgiler numeric ve object tipindeki datalarda farklı bilgiler verir. Bunun için veri setindeki sütunları object ve numeric olarak ayıralım."
   ]
  },
  {
   "cell_type": "code",
   "execution_count": 6,
   "metadata": {},
   "outputs": [
    {
     "data": {
      "text/plain": [
       "Index(['Employee_ID', 'Name', 'Age', 'Gender', 'Department', 'Position',\n",
       "       'Years_at_Company', 'Salary', 'Education_Level', 'Performance_Score',\n",
       "       'Marital_Status', 'Has_Children', 'Working_Hours_per_Week',\n",
       "       'Remote_Work', 'Sick_Days_in_Last_Year', 'Promotion_Last_5_Years',\n",
       "       'Left_Company', 'Work_Life_Balance_Score', 'Job_Satisfaction_Score',\n",
       "       'Previous_Employer_Count', 'Favorite_Color', 'Hobby',\n",
       "       'Estimated_Annual_Bonus'],\n",
       "      dtype='object')"
      ]
     },
     "execution_count": 6,
     "metadata": {},
     "output_type": "execute_result"
    }
   ],
   "source": [
    "df.columns"
   ]
  },
  {
   "cell_type": "code",
   "execution_count": 7,
   "metadata": {},
   "outputs": [
    {
     "data": {
      "text/html": [
       "<div>\n",
       "<style scoped>\n",
       "    .dataframe tbody tr th:only-of-type {\n",
       "        vertical-align: middle;\n",
       "    }\n",
       "\n",
       "    .dataframe tbody tr th {\n",
       "        vertical-align: top;\n",
       "    }\n",
       "\n",
       "    .dataframe thead th {\n",
       "        text-align: right;\n",
       "    }\n",
       "</style>\n",
       "<table border=\"1\" class=\"dataframe\">\n",
       "  <thead>\n",
       "    <tr style=\"text-align: right;\">\n",
       "      <th></th>\n",
       "      <th>Employee_ID</th>\n",
       "      <th>Age</th>\n",
       "      <th>Years_at_Company</th>\n",
       "      <th>Salary</th>\n",
       "      <th>Performance_Score</th>\n",
       "      <th>Working_Hours_per_Week</th>\n",
       "      <th>Sick_Days_in_Last_Year</th>\n",
       "      <th>Work_Life_Balance_Score</th>\n",
       "      <th>Job_Satisfaction_Score</th>\n",
       "      <th>Previous_Employer_Count</th>\n",
       "      <th>Estimated_Annual_Bonus</th>\n",
       "    </tr>\n",
       "  </thead>\n",
       "  <tbody>\n",
       "    <tr>\n",
       "      <th>0</th>\n",
       "      <td>1</td>\n",
       "      <td>57.0</td>\n",
       "      <td>38</td>\n",
       "      <td>NaN</td>\n",
       "      <td>3</td>\n",
       "      <td>31</td>\n",
       "      <td>0</td>\n",
       "      <td>2</td>\n",
       "      <td>4</td>\n",
       "      <td>9</td>\n",
       "      <td>NaN</td>\n",
       "    </tr>\n",
       "    <tr>\n",
       "      <th>1</th>\n",
       "      <td>2</td>\n",
       "      <td>NaN</td>\n",
       "      <td>8</td>\n",
       "      <td>54234.0</td>\n",
       "      <td>3</td>\n",
       "      <td>45</td>\n",
       "      <td>10</td>\n",
       "      <td>5</td>\n",
       "      <td>7</td>\n",
       "      <td>0</td>\n",
       "      <td>5193.274541</td>\n",
       "    </tr>\n",
       "    <tr>\n",
       "      <th>2</th>\n",
       "      <td>3</td>\n",
       "      <td>49.0</td>\n",
       "      <td>17</td>\n",
       "      <td>NaN</td>\n",
       "      <td>4</td>\n",
       "      <td>47</td>\n",
       "      <td>8</td>\n",
       "      <td>6</td>\n",
       "      <td>8</td>\n",
       "      <td>5</td>\n",
       "      <td>NaN</td>\n",
       "    </tr>\n",
       "    <tr>\n",
       "      <th>3</th>\n",
       "      <td>4</td>\n",
       "      <td>36.0</td>\n",
       "      <td>35</td>\n",
       "      <td>126284.0</td>\n",
       "      <td>3</td>\n",
       "      <td>47</td>\n",
       "      <td>6</td>\n",
       "      <td>3</td>\n",
       "      <td>9</td>\n",
       "      <td>3</td>\n",
       "      <td>9139.923382</td>\n",
       "    </tr>\n",
       "    <tr>\n",
       "      <th>4</th>\n",
       "      <td>5</td>\n",
       "      <td>23.0</td>\n",
       "      <td>39</td>\n",
       "      <td>52322.0</td>\n",
       "      <td>1</td>\n",
       "      <td>42</td>\n",
       "      <td>13</td>\n",
       "      <td>2</td>\n",
       "      <td>5</td>\n",
       "      <td>7</td>\n",
       "      <td>2963.943736</td>\n",
       "    </tr>\n",
       "    <tr>\n",
       "      <th>...</th>\n",
       "      <td>...</td>\n",
       "      <td>...</td>\n",
       "      <td>...</td>\n",
       "      <td>...</td>\n",
       "      <td>...</td>\n",
       "      <td>...</td>\n",
       "      <td>...</td>\n",
       "      <td>...</td>\n",
       "      <td>...</td>\n",
       "      <td>...</td>\n",
       "      <td>...</td>\n",
       "    </tr>\n",
       "    <tr>\n",
       "      <th>9995</th>\n",
       "      <td>9996</td>\n",
       "      <td>63.0</td>\n",
       "      <td>8</td>\n",
       "      <td>123268.0</td>\n",
       "      <td>3</td>\n",
       "      <td>53</td>\n",
       "      <td>6</td>\n",
       "      <td>1</td>\n",
       "      <td>3</td>\n",
       "      <td>8</td>\n",
       "      <td>17189.899795</td>\n",
       "    </tr>\n",
       "    <tr>\n",
       "      <th>9996</th>\n",
       "      <td>9997</td>\n",
       "      <td>41.0</td>\n",
       "      <td>4</td>\n",
       "      <td>110551.0</td>\n",
       "      <td>3</td>\n",
       "      <td>53</td>\n",
       "      <td>2</td>\n",
       "      <td>4</td>\n",
       "      <td>4</td>\n",
       "      <td>7</td>\n",
       "      <td>9860.980842</td>\n",
       "    </tr>\n",
       "    <tr>\n",
       "      <th>9997</th>\n",
       "      <td>9998</td>\n",
       "      <td>46.0</td>\n",
       "      <td>3</td>\n",
       "      <td>118467.0</td>\n",
       "      <td>1</td>\n",
       "      <td>59</td>\n",
       "      <td>4</td>\n",
       "      <td>2</td>\n",
       "      <td>3</td>\n",
       "      <td>6</td>\n",
       "      <td>11478.411883</td>\n",
       "    </tr>\n",
       "    <tr>\n",
       "      <th>9998</th>\n",
       "      <td>9999</td>\n",
       "      <td>21.0</td>\n",
       "      <td>8</td>\n",
       "      <td>121164.0</td>\n",
       "      <td>1</td>\n",
       "      <td>57</td>\n",
       "      <td>2</td>\n",
       "      <td>9</td>\n",
       "      <td>9</td>\n",
       "      <td>1</td>\n",
       "      <td>6298.654648</td>\n",
       "    </tr>\n",
       "    <tr>\n",
       "      <th>9999</th>\n",
       "      <td>10000</td>\n",
       "      <td>55.0</td>\n",
       "      <td>17</td>\n",
       "      <td>32084.0</td>\n",
       "      <td>2</td>\n",
       "      <td>45</td>\n",
       "      <td>9</td>\n",
       "      <td>8</td>\n",
       "      <td>7</td>\n",
       "      <td>1</td>\n",
       "      <td>2908.533964</td>\n",
       "    </tr>\n",
       "  </tbody>\n",
       "</table>\n",
       "<p>10000 rows × 11 columns</p>\n",
       "</div>"
      ],
      "text/plain": [
       "      Employee_ID   Age  Years_at_Company    Salary  Performance_Score  \\\n",
       "0               1  57.0                38       NaN                  3   \n",
       "1               2   NaN                 8   54234.0                  3   \n",
       "2               3  49.0                17       NaN                  4   \n",
       "3               4  36.0                35  126284.0                  3   \n",
       "4               5  23.0                39   52322.0                  1   \n",
       "...           ...   ...               ...       ...                ...   \n",
       "9995         9996  63.0                 8  123268.0                  3   \n",
       "9996         9997  41.0                 4  110551.0                  3   \n",
       "9997         9998  46.0                 3  118467.0                  1   \n",
       "9998         9999  21.0                 8  121164.0                  1   \n",
       "9999        10000  55.0                17   32084.0                  2   \n",
       "\n",
       "      Working_Hours_per_Week  Sick_Days_in_Last_Year  Work_Life_Balance_Score  \\\n",
       "0                         31                       0                        2   \n",
       "1                         45                      10                        5   \n",
       "2                         47                       8                        6   \n",
       "3                         47                       6                        3   \n",
       "4                         42                      13                        2   \n",
       "...                      ...                     ...                      ...   \n",
       "9995                      53                       6                        1   \n",
       "9996                      53                       2                        4   \n",
       "9997                      59                       4                        2   \n",
       "9998                      57                       2                        9   \n",
       "9999                      45                       9                        8   \n",
       "\n",
       "      Job_Satisfaction_Score  Previous_Employer_Count  Estimated_Annual_Bonus  \n",
       "0                          4                        9                     NaN  \n",
       "1                          7                        0             5193.274541  \n",
       "2                          8                        5                     NaN  \n",
       "3                          9                        3             9139.923382  \n",
       "4                          5                        7             2963.943736  \n",
       "...                      ...                      ...                     ...  \n",
       "9995                       3                        8            17189.899795  \n",
       "9996                       4                        7             9860.980842  \n",
       "9997                       3                        6            11478.411883  \n",
       "9998                       9                        1             6298.654648  \n",
       "9999                       7                        1             2908.533964  \n",
       "\n",
       "[10000 rows x 11 columns]"
      ]
     },
     "execution_count": 7,
     "metadata": {},
     "output_type": "execute_result"
    }
   ],
   "source": [
    "numeric_sutunlar =[\n",
    "    sutun\n",
    "    for sutun in df.columns\n",
    "    if df[sutun].dtype in [\"int64\", \"float64\"]\n",
    "    ]\n",
    "\n",
    "df[numeric_sutunlar]"
   ]
  },
  {
   "cell_type": "code",
   "execution_count": 8,
   "metadata": {},
   "outputs": [
    {
     "data": {
      "text/html": [
       "<div>\n",
       "<style scoped>\n",
       "    .dataframe tbody tr th:only-of-type {\n",
       "        vertical-align: middle;\n",
       "    }\n",
       "\n",
       "    .dataframe tbody tr th {\n",
       "        vertical-align: top;\n",
       "    }\n",
       "\n",
       "    .dataframe thead th {\n",
       "        text-align: right;\n",
       "    }\n",
       "</style>\n",
       "<table border=\"1\" class=\"dataframe\">\n",
       "  <thead>\n",
       "    <tr style=\"text-align: right;\">\n",
       "      <th></th>\n",
       "      <th>Name</th>\n",
       "      <th>Gender</th>\n",
       "      <th>Department</th>\n",
       "      <th>Position</th>\n",
       "      <th>Education_Level</th>\n",
       "      <th>Marital_Status</th>\n",
       "      <th>Favorite_Color</th>\n",
       "      <th>Hobby</th>\n",
       "    </tr>\n",
       "  </thead>\n",
       "  <tbody>\n",
       "    <tr>\n",
       "      <th>0</th>\n",
       "      <td>Hüseyin</td>\n",
       "      <td>Male</td>\n",
       "      <td>Sales</td>\n",
       "      <td>Senior</td>\n",
       "      <td>Master</td>\n",
       "      <td>Divorced</td>\n",
       "      <td>Green</td>\n",
       "      <td>Gaming</td>\n",
       "    </tr>\n",
       "    <tr>\n",
       "      <th>1</th>\n",
       "      <td>Fatma</td>\n",
       "      <td>Male</td>\n",
       "      <td>Marketing</td>\n",
       "      <td>Manager</td>\n",
       "      <td>PhD</td>\n",
       "      <td>Single</td>\n",
       "      <td>Yellow</td>\n",
       "      <td>Traveling</td>\n",
       "    </tr>\n",
       "    <tr>\n",
       "      <th>2</th>\n",
       "      <td>Ali</td>\n",
       "      <td>Male</td>\n",
       "      <td>Marketing</td>\n",
       "      <td>Intern</td>\n",
       "      <td>Bachelor</td>\n",
       "      <td>Single</td>\n",
       "      <td>White</td>\n",
       "      <td>Music</td>\n",
       "    </tr>\n",
       "    <tr>\n",
       "      <th>3</th>\n",
       "      <td>Hüseyin</td>\n",
       "      <td>Male</td>\n",
       "      <td>IT</td>\n",
       "      <td>Junior</td>\n",
       "      <td>PhD</td>\n",
       "      <td>Married</td>\n",
       "      <td>Black</td>\n",
       "      <td>Sports</td>\n",
       "    </tr>\n",
       "    <tr>\n",
       "      <th>4</th>\n",
       "      <td>Mehmet</td>\n",
       "      <td>Male</td>\n",
       "      <td>Finance</td>\n",
       "      <td>Senior</td>\n",
       "      <td>Master</td>\n",
       "      <td>Married</td>\n",
       "      <td>Red</td>\n",
       "      <td>Traveling</td>\n",
       "    </tr>\n",
       "    <tr>\n",
       "      <th>...</th>\n",
       "      <td>...</td>\n",
       "      <td>...</td>\n",
       "      <td>...</td>\n",
       "      <td>...</td>\n",
       "      <td>...</td>\n",
       "      <td>...</td>\n",
       "      <td>...</td>\n",
       "      <td>...</td>\n",
       "    </tr>\n",
       "    <tr>\n",
       "      <th>9995</th>\n",
       "      <td>Fatma</td>\n",
       "      <td>Female</td>\n",
       "      <td>Finance</td>\n",
       "      <td>Senior</td>\n",
       "      <td>High School</td>\n",
       "      <td>Married</td>\n",
       "      <td>White</td>\n",
       "      <td>Sports</td>\n",
       "    </tr>\n",
       "    <tr>\n",
       "      <th>9996</th>\n",
       "      <td>Mehmet</td>\n",
       "      <td>Female</td>\n",
       "      <td>Operations</td>\n",
       "      <td>Junior</td>\n",
       "      <td>PhD</td>\n",
       "      <td>Married</td>\n",
       "      <td>Green</td>\n",
       "      <td>Gaming</td>\n",
       "    </tr>\n",
       "    <tr>\n",
       "      <th>9997</th>\n",
       "      <td>Emine</td>\n",
       "      <td>Female</td>\n",
       "      <td>Operations</td>\n",
       "      <td>Intern</td>\n",
       "      <td>Master</td>\n",
       "      <td>Single</td>\n",
       "      <td>Red</td>\n",
       "      <td>Reading</td>\n",
       "    </tr>\n",
       "    <tr>\n",
       "      <th>9998</th>\n",
       "      <td>Emine</td>\n",
       "      <td>Female</td>\n",
       "      <td>HR</td>\n",
       "      <td>Senior</td>\n",
       "      <td>Master</td>\n",
       "      <td>Single</td>\n",
       "      <td>Green</td>\n",
       "      <td>Music</td>\n",
       "    </tr>\n",
       "    <tr>\n",
       "      <th>9999</th>\n",
       "      <td>Ali</td>\n",
       "      <td>Male</td>\n",
       "      <td>Marketing</td>\n",
       "      <td>Junior</td>\n",
       "      <td>Bachelor</td>\n",
       "      <td>Married</td>\n",
       "      <td>Green</td>\n",
       "      <td>Gaming</td>\n",
       "    </tr>\n",
       "  </tbody>\n",
       "</table>\n",
       "<p>10000 rows × 8 columns</p>\n",
       "</div>"
      ],
      "text/plain": [
       "         Name  Gender  Department Position Education_Level Marital_Status  \\\n",
       "0     Hüseyin    Male       Sales   Senior          Master       Divorced   \n",
       "1       Fatma    Male   Marketing  Manager             PhD         Single   \n",
       "2         Ali    Male   Marketing   Intern        Bachelor         Single   \n",
       "3     Hüseyin    Male          IT   Junior             PhD        Married   \n",
       "4      Mehmet    Male     Finance   Senior          Master        Married   \n",
       "...       ...     ...         ...      ...             ...            ...   \n",
       "9995    Fatma  Female     Finance   Senior     High School        Married   \n",
       "9996   Mehmet  Female  Operations   Junior             PhD        Married   \n",
       "9997    Emine  Female  Operations   Intern          Master         Single   \n",
       "9998    Emine  Female          HR   Senior          Master         Single   \n",
       "9999      Ali    Male   Marketing   Junior        Bachelor        Married   \n",
       "\n",
       "     Favorite_Color      Hobby  \n",
       "0             Green     Gaming  \n",
       "1            Yellow  Traveling  \n",
       "2             White      Music  \n",
       "3             Black     Sports  \n",
       "4               Red  Traveling  \n",
       "...             ...        ...  \n",
       "9995          White     Sports  \n",
       "9996          Green     Gaming  \n",
       "9997            Red    Reading  \n",
       "9998          Green      Music  \n",
       "9999          Green     Gaming  \n",
       "\n",
       "[10000 rows x 8 columns]"
      ]
     },
     "execution_count": 8,
     "metadata": {},
     "output_type": "execute_result"
    }
   ],
   "source": [
    "object_sutunlar =[\n",
    "    sutun\n",
    "    for sutun in df.columns\n",
    "    if df[sutun].dtype == \"O\"\n",
    "    ]\n",
    "\n",
    "df[object_sutunlar]"
   ]
  },
  {
   "cell_type": "code",
   "execution_count": 9,
   "metadata": {},
   "outputs": [
    {
     "data": {
      "text/html": [
       "<div>\n",
       "<style scoped>\n",
       "    .dataframe tbody tr th:only-of-type {\n",
       "        vertical-align: middle;\n",
       "    }\n",
       "\n",
       "    .dataframe tbody tr th {\n",
       "        vertical-align: top;\n",
       "    }\n",
       "\n",
       "    .dataframe thead th {\n",
       "        text-align: right;\n",
       "    }\n",
       "</style>\n",
       "<table border=\"1\" class=\"dataframe\">\n",
       "  <thead>\n",
       "    <tr style=\"text-align: right;\">\n",
       "      <th></th>\n",
       "      <th>count</th>\n",
       "      <th>mean</th>\n",
       "      <th>std</th>\n",
       "      <th>min</th>\n",
       "      <th>25%</th>\n",
       "      <th>50%</th>\n",
       "      <th>75%</th>\n",
       "      <th>max</th>\n",
       "    </tr>\n",
       "  </thead>\n",
       "  <tbody>\n",
       "    <tr>\n",
       "      <th>Employee_ID</th>\n",
       "      <td>10000.0</td>\n",
       "      <td>5000.500000</td>\n",
       "      <td>2886.895680</td>\n",
       "      <td>1.000000</td>\n",
       "      <td>2500.750000</td>\n",
       "      <td>5000.500000</td>\n",
       "      <td>7500.250000</td>\n",
       "      <td>10000.000000</td>\n",
       "    </tr>\n",
       "    <tr>\n",
       "      <th>Age</th>\n",
       "      <td>9500.0</td>\n",
       "      <td>40.862737</td>\n",
       "      <td>13.433499</td>\n",
       "      <td>18.000000</td>\n",
       "      <td>30.000000</td>\n",
       "      <td>41.000000</td>\n",
       "      <td>53.000000</td>\n",
       "      <td>64.000000</td>\n",
       "    </tr>\n",
       "    <tr>\n",
       "      <th>Years_at_Company</th>\n",
       "      <td>10000.0</td>\n",
       "      <td>19.502500</td>\n",
       "      <td>11.588478</td>\n",
       "      <td>0.000000</td>\n",
       "      <td>9.000000</td>\n",
       "      <td>20.000000</td>\n",
       "      <td>29.000000</td>\n",
       "      <td>39.000000</td>\n",
       "    </tr>\n",
       "    <tr>\n",
       "      <th>Salary</th>\n",
       "      <td>9000.0</td>\n",
       "      <td>89832.444778</td>\n",
       "      <td>34580.446485</td>\n",
       "      <td>30002.000000</td>\n",
       "      <td>59597.000000</td>\n",
       "      <td>89414.500000</td>\n",
       "      <td>119852.000000</td>\n",
       "      <td>149952.000000</td>\n",
       "    </tr>\n",
       "    <tr>\n",
       "      <th>Performance_Score</th>\n",
       "      <td>10000.0</td>\n",
       "      <td>2.508400</td>\n",
       "      <td>1.126080</td>\n",
       "      <td>1.000000</td>\n",
       "      <td>1.000000</td>\n",
       "      <td>2.500000</td>\n",
       "      <td>4.000000</td>\n",
       "      <td>4.000000</td>\n",
       "    </tr>\n",
       "    <tr>\n",
       "      <th>Working_Hours_per_Week</th>\n",
       "      <td>10000.0</td>\n",
       "      <td>39.669800</td>\n",
       "      <td>11.617360</td>\n",
       "      <td>20.000000</td>\n",
       "      <td>30.000000</td>\n",
       "      <td>40.000000</td>\n",
       "      <td>50.000000</td>\n",
       "      <td>59.000000</td>\n",
       "    </tr>\n",
       "    <tr>\n",
       "      <th>Sick_Days_in_Last_Year</th>\n",
       "      <td>10000.0</td>\n",
       "      <td>7.074900</td>\n",
       "      <td>4.313554</td>\n",
       "      <td>0.000000</td>\n",
       "      <td>3.000000</td>\n",
       "      <td>7.000000</td>\n",
       "      <td>11.000000</td>\n",
       "      <td>14.000000</td>\n",
       "    </tr>\n",
       "    <tr>\n",
       "      <th>Work_Life_Balance_Score</th>\n",
       "      <td>10000.0</td>\n",
       "      <td>4.987400</td>\n",
       "      <td>2.587800</td>\n",
       "      <td>1.000000</td>\n",
       "      <td>3.000000</td>\n",
       "      <td>5.000000</td>\n",
       "      <td>7.000000</td>\n",
       "      <td>9.000000</td>\n",
       "    </tr>\n",
       "    <tr>\n",
       "      <th>Job_Satisfaction_Score</th>\n",
       "      <td>10000.0</td>\n",
       "      <td>4.983400</td>\n",
       "      <td>2.587275</td>\n",
       "      <td>1.000000</td>\n",
       "      <td>3.000000</td>\n",
       "      <td>5.000000</td>\n",
       "      <td>7.000000</td>\n",
       "      <td>9.000000</td>\n",
       "    </tr>\n",
       "    <tr>\n",
       "      <th>Previous_Employer_Count</th>\n",
       "      <td>10000.0</td>\n",
       "      <td>4.471400</td>\n",
       "      <td>2.887424</td>\n",
       "      <td>0.000000</td>\n",
       "      <td>2.000000</td>\n",
       "      <td>4.000000</td>\n",
       "      <td>7.000000</td>\n",
       "      <td>9.000000</td>\n",
       "    </tr>\n",
       "    <tr>\n",
       "      <th>Estimated_Annual_Bonus</th>\n",
       "      <td>9000.0</td>\n",
       "      <td>8997.434617</td>\n",
       "      <td>4457.331612</td>\n",
       "      <td>1549.889726</td>\n",
       "      <td>5435.164744</td>\n",
       "      <td>8153.612463</td>\n",
       "      <td>11972.373016</td>\n",
       "      <td>22400.549723</td>\n",
       "    </tr>\n",
       "  </tbody>\n",
       "</table>\n",
       "</div>"
      ],
      "text/plain": [
       "                           count          mean           std           min  \\\n",
       "Employee_ID              10000.0   5000.500000   2886.895680      1.000000   \n",
       "Age                       9500.0     40.862737     13.433499     18.000000   \n",
       "Years_at_Company         10000.0     19.502500     11.588478      0.000000   \n",
       "Salary                    9000.0  89832.444778  34580.446485  30002.000000   \n",
       "Performance_Score        10000.0      2.508400      1.126080      1.000000   \n",
       "Working_Hours_per_Week   10000.0     39.669800     11.617360     20.000000   \n",
       "Sick_Days_in_Last_Year   10000.0      7.074900      4.313554      0.000000   \n",
       "Work_Life_Balance_Score  10000.0      4.987400      2.587800      1.000000   \n",
       "Job_Satisfaction_Score   10000.0      4.983400      2.587275      1.000000   \n",
       "Previous_Employer_Count  10000.0      4.471400      2.887424      0.000000   \n",
       "Estimated_Annual_Bonus    9000.0   8997.434617   4457.331612   1549.889726   \n",
       "\n",
       "                                  25%           50%            75%  \\\n",
       "Employee_ID               2500.750000   5000.500000    7500.250000   \n",
       "Age                         30.000000     41.000000      53.000000   \n",
       "Years_at_Company             9.000000     20.000000      29.000000   \n",
       "Salary                   59597.000000  89414.500000  119852.000000   \n",
       "Performance_Score            1.000000      2.500000       4.000000   \n",
       "Working_Hours_per_Week      30.000000     40.000000      50.000000   \n",
       "Sick_Days_in_Last_Year       3.000000      7.000000      11.000000   \n",
       "Work_Life_Balance_Score      3.000000      5.000000       7.000000   \n",
       "Job_Satisfaction_Score       3.000000      5.000000       7.000000   \n",
       "Previous_Employer_Count      2.000000      4.000000       7.000000   \n",
       "Estimated_Annual_Bonus    5435.164744   8153.612463   11972.373016   \n",
       "\n",
       "                                   max  \n",
       "Employee_ID               10000.000000  \n",
       "Age                          64.000000  \n",
       "Years_at_Company             39.000000  \n",
       "Salary                   149952.000000  \n",
       "Performance_Score             4.000000  \n",
       "Working_Hours_per_Week       59.000000  \n",
       "Sick_Days_in_Last_Year       14.000000  \n",
       "Work_Life_Balance_Score       9.000000  \n",
       "Job_Satisfaction_Score        9.000000  \n",
       "Previous_Employer_Count       9.000000  \n",
       "Estimated_Annual_Bonus    22400.549723  "
      ]
     },
     "execution_count": 9,
     "metadata": {},
     "output_type": "execute_result"
    }
   ],
   "source": [
    "df[numeric_sutunlar].describe().T"
   ]
  },
  {
   "cell_type": "code",
   "execution_count": 10,
   "metadata": {},
   "outputs": [
    {
     "data": {
      "text/html": [
       "<div>\n",
       "<style scoped>\n",
       "    .dataframe tbody tr th:only-of-type {\n",
       "        vertical-align: middle;\n",
       "    }\n",
       "\n",
       "    .dataframe tbody tr th {\n",
       "        vertical-align: top;\n",
       "    }\n",
       "\n",
       "    .dataframe thead th {\n",
       "        text-align: right;\n",
       "    }\n",
       "</style>\n",
       "<table border=\"1\" class=\"dataframe\">\n",
       "  <thead>\n",
       "    <tr style=\"text-align: right;\">\n",
       "      <th></th>\n",
       "      <th>count</th>\n",
       "      <th>unique</th>\n",
       "      <th>top</th>\n",
       "      <th>freq</th>\n",
       "    </tr>\n",
       "  </thead>\n",
       "  <tbody>\n",
       "    <tr>\n",
       "      <th>Name</th>\n",
       "      <td>10000</td>\n",
       "      <td>8</td>\n",
       "      <td>Ali</td>\n",
       "      <td>1271</td>\n",
       "    </tr>\n",
       "    <tr>\n",
       "      <th>Gender</th>\n",
       "      <td>10000</td>\n",
       "      <td>2</td>\n",
       "      <td>Female</td>\n",
       "      <td>5032</td>\n",
       "    </tr>\n",
       "    <tr>\n",
       "      <th>Department</th>\n",
       "      <td>9700</td>\n",
       "      <td>6</td>\n",
       "      <td>Sales</td>\n",
       "      <td>1737</td>\n",
       "    </tr>\n",
       "    <tr>\n",
       "      <th>Position</th>\n",
       "      <td>10000</td>\n",
       "      <td>5</td>\n",
       "      <td>Senior</td>\n",
       "      <td>2020</td>\n",
       "    </tr>\n",
       "    <tr>\n",
       "      <th>Education_Level</th>\n",
       "      <td>10000</td>\n",
       "      <td>4</td>\n",
       "      <td>Bachelor</td>\n",
       "      <td>2535</td>\n",
       "    </tr>\n",
       "    <tr>\n",
       "      <th>Marital_Status</th>\n",
       "      <td>10000</td>\n",
       "      <td>3</td>\n",
       "      <td>Married</td>\n",
       "      <td>3354</td>\n",
       "    </tr>\n",
       "    <tr>\n",
       "      <th>Favorite_Color</th>\n",
       "      <td>10000</td>\n",
       "      <td>6</td>\n",
       "      <td>White</td>\n",
       "      <td>1701</td>\n",
       "    </tr>\n",
       "    <tr>\n",
       "      <th>Hobby</th>\n",
       "      <td>10000</td>\n",
       "      <td>5</td>\n",
       "      <td>Traveling</td>\n",
       "      <td>2121</td>\n",
       "    </tr>\n",
       "  </tbody>\n",
       "</table>\n",
       "</div>"
      ],
      "text/plain": [
       "                 count unique        top  freq\n",
       "Name             10000      8        Ali  1271\n",
       "Gender           10000      2     Female  5032\n",
       "Department        9700      6      Sales  1737\n",
       "Position         10000      5     Senior  2020\n",
       "Education_Level  10000      4   Bachelor  2535\n",
       "Marital_Status   10000      3    Married  3354\n",
       "Favorite_Color   10000      6      White  1701\n",
       "Hobby            10000      5  Traveling  2121"
      ]
     },
     "execution_count": 10,
     "metadata": {},
     "output_type": "execute_result"
    }
   ],
   "source": [
    "df[object_sutunlar].describe().T"
   ]
  },
  {
   "cell_type": "markdown",
   "metadata": {},
   "source": [
    "# Eksik verilere bakalım"
   ]
  },
  {
   "cell_type": "code",
   "execution_count": 11,
   "metadata": {},
   "outputs": [
    {
     "data": {
      "text/plain": [
       "Employee_ID                   0\n",
       "Name                          0\n",
       "Age                         500\n",
       "Gender                        0\n",
       "Department                  300\n",
       "Position                      0\n",
       "Years_at_Company              0\n",
       "Salary                     1000\n",
       "Education_Level               0\n",
       "Performance_Score             0\n",
       "Marital_Status                0\n",
       "Has_Children                  0\n",
       "Working_Hours_per_Week        0\n",
       "Remote_Work                   0\n",
       "Sick_Days_in_Last_Year        0\n",
       "Promotion_Last_5_Years        0\n",
       "Left_Company                  0\n",
       "Work_Life_Balance_Score       0\n",
       "Job_Satisfaction_Score        0\n",
       "Previous_Employer_Count       0\n",
       "Favorite_Color                0\n",
       "Hobby                         0\n",
       "Estimated_Annual_Bonus     1000\n",
       "dtype: int64"
      ]
     },
     "execution_count": 11,
     "metadata": {},
     "output_type": "execute_result"
    }
   ],
   "source": [
    "df.isnull().sum()"
   ]
  },
  {
   "cell_type": "code",
   "execution_count": 12,
   "metadata": {},
   "outputs": [
    {
     "data": {
      "text/plain": [
       "Employee_ID                0.00\n",
       "Name                       0.00\n",
       "Age                        0.05\n",
       "Gender                     0.00\n",
       "Department                 0.03\n",
       "Position                   0.00\n",
       "Years_at_Company           0.00\n",
       "Salary                     0.10\n",
       "Education_Level            0.00\n",
       "Performance_Score          0.00\n",
       "Marital_Status             0.00\n",
       "Has_Children               0.00\n",
       "Working_Hours_per_Week     0.00\n",
       "Remote_Work                0.00\n",
       "Sick_Days_in_Last_Year     0.00\n",
       "Promotion_Last_5_Years     0.00\n",
       "Left_Company               0.00\n",
       "Work_Life_Balance_Score    0.00\n",
       "Job_Satisfaction_Score     0.00\n",
       "Previous_Employer_Count    0.00\n",
       "Favorite_Color             0.00\n",
       "Hobby                      0.00\n",
       "Estimated_Annual_Bonus     0.10\n",
       "dtype: float64"
      ]
     },
     "execution_count": 12,
     "metadata": {},
     "output_type": "execute_result"
    }
   ],
   "source": [
    "eksik_veri_orani = pd.isnull(df).mean() #yüzdesel olarak eksik veri oranları\n",
    "eksik_veri_orani"
   ]
  },
  {
   "cell_type": "code",
   "execution_count": 13,
   "metadata": {},
   "outputs": [
    {
     "data": {
      "text/plain": [
       "Index(['Age', 'Department', 'Salary', 'Estimated_Annual_Bonus'], dtype='object')"
      ]
     },
     "execution_count": 13,
     "metadata": {},
     "output_type": "execute_result"
    }
   ],
   "source": [
    "doldurulacak_eksik_veriler = eksik_veri_orani[(eksik_veri_orani < 0.5)& (eksik_veri_orani >0.00)].index  \n",
    "doldurulacak_eksik_veriler"
   ]
  },
  {
   "cell_type": "code",
   "execution_count": 14,
   "metadata": {},
   "outputs": [
    {
     "name": "stderr",
     "output_type": "stream",
     "text": [
      "/tmp/ipykernel_45482/458805908.py:3: FutureWarning: A value is trying to be set on a copy of a DataFrame or Series through chained assignment using an inplace method.\n",
      "The behavior will change in pandas 3.0. This inplace method will never work because the intermediate object on which we are setting values always behaves as a copy.\n",
      "\n",
      "For example, when doing 'df[col].method(value, inplace=True)', try using 'df.method({col: value}, inplace=True)' or df[col] = df[col].method(value) instead, to perform the operation inplace on the original object.\n",
      "\n",
      "\n",
      "  return df[sutun_adi].fillna(df[sutun_adi].mean(), inplace=True)\n"
     ]
    }
   ],
   "source": [
    "#Sayısal eksik verileri doldurma\n",
    "def eksik_veri_doldurma(sutun_adi:str):\n",
    "     return df[sutun_adi].fillna(df[sutun_adi].mean(), inplace=True)\n",
    "\n",
    "eksik_veri_doldurma('Age')\n",
    "eksik_veri_doldurma('Salary')\n",
    "eksik_veri_doldurma('Estimated_Annual_Bonus')"
   ]
  },
  {
   "cell_type": "code",
   "execution_count": 15,
   "metadata": {},
   "outputs": [
    {
     "name": "stderr",
     "output_type": "stream",
     "text": [
      "/tmp/ipykernel_45482/1437966855.py:3: FutureWarning: A value is trying to be set on a copy of a DataFrame or Series through chained assignment using an inplace method.\n",
      "The behavior will change in pandas 3.0. This inplace method will never work because the intermediate object on which we are setting values always behaves as a copy.\n",
      "\n",
      "For example, when doing 'df[col].method(value, inplace=True)', try using 'df.method({col: value}, inplace=True)' or df[col] = df[col].method(value) instead, to perform the operation inplace on the original object.\n",
      "\n",
      "\n",
      "  df['Department'].fillna(df['Department'].mode()[0], inplace= True)\n"
     ]
    }
   ],
   "source": [
    "# object sütunun eksik verisini doldurma \n",
    "\n",
    "df['Department'].fillna(df['Department'].mode()[0], inplace= True)"
   ]
  },
  {
   "cell_type": "code",
   "execution_count": 16,
   "metadata": {},
   "outputs": [
    {
     "data": {
      "text/plain": [
       "Employee_ID                0\n",
       "Name                       0\n",
       "Age                        0\n",
       "Gender                     0\n",
       "Department                 0\n",
       "Position                   0\n",
       "Years_at_Company           0\n",
       "Salary                     0\n",
       "Education_Level            0\n",
       "Performance_Score          0\n",
       "Marital_Status             0\n",
       "Has_Children               0\n",
       "Working_Hours_per_Week     0\n",
       "Remote_Work                0\n",
       "Sick_Days_in_Last_Year     0\n",
       "Promotion_Last_5_Years     0\n",
       "Left_Company               0\n",
       "Work_Life_Balance_Score    0\n",
       "Job_Satisfaction_Score     0\n",
       "Previous_Employer_Count    0\n",
       "Favorite_Color             0\n",
       "Hobby                      0\n",
       "Estimated_Annual_Bonus     0\n",
       "dtype: int64"
      ]
     },
     "execution_count": 16,
     "metadata": {},
     "output_type": "execute_result"
    }
   ],
   "source": [
    "df.isnull().sum()"
   ]
  },
  {
   "cell_type": "markdown",
   "metadata": {},
   "source": [
    "# Özellik mühendisliği -- Feature Engineering"
   ]
  },
  {
   "cell_type": "markdown",
   "metadata": {},
   "source": [
    "var olan sütunların değerlerini inceleyerek yeni sütunları üretmektir.\n",
    "yeni sütunlar üretmek için maddeler:\n",
    "* oluşturulan yeni sütunun veri setinde ilişkili olması beklenir.\n",
    "* oluşturulan yeni sütunun eski sütundan daha iyi anlaliz edilebilmesi lazım.\n",
    "* oluşturulan yeni sütunun eski sütundan daha zengin anlam çıkarması beklenir."
   ]
  },
  {
   "cell_type": "markdown",
   "metadata": {},
   "source": [
    "Eğer sayılabilen bir sayısal veri var ise bu veriyi belli aralıklar içerisinde yeni bir sütun olarak oluşturursak, daha anlamlı bir bilgi çıkarabiliriz."
   ]
  },
  {
   "cell_type": "code",
   "execution_count": 17,
   "metadata": {},
   "outputs": [
    {
     "data": {
      "text/plain": [
       "Age\n",
       "18.000000    192\n",
       "19.000000    201\n",
       "20.000000    195\n",
       "21.000000    202\n",
       "22.000000    196\n",
       "23.000000    197\n",
       "24.000000    191\n",
       "25.000000    202\n",
       "26.000000    208\n",
       "27.000000    212\n",
       "28.000000    171\n",
       "29.000000    192\n",
       "30.000000    232\n",
       "31.000000    202\n",
       "32.000000    226\n",
       "33.000000    228\n",
       "34.000000    232\n",
       "35.000000    217\n",
       "36.000000    205\n",
       "37.000000    197\n",
       "38.000000    210\n",
       "39.000000    208\n",
       "40.000000    216\n",
       "40.862737    500\n",
       "41.000000    206\n",
       "42.000000    186\n",
       "43.000000    219\n",
       "44.000000    199\n",
       "45.000000    213\n",
       "46.000000    205\n",
       "47.000000    193\n",
       "48.000000    206\n",
       "49.000000    187\n",
       "50.000000    199\n",
       "51.000000    185\n",
       "52.000000    182\n",
       "53.000000    198\n",
       "54.000000    204\n",
       "55.000000    200\n",
       "56.000000    227\n",
       "57.000000    181\n",
       "58.000000    195\n",
       "59.000000    211\n",
       "60.000000    179\n",
       "61.000000    226\n",
       "62.000000    200\n",
       "63.000000    177\n",
       "64.000000    190\n",
       "Name: count, dtype: int64"
      ]
     },
     "execution_count": 17,
     "metadata": {},
     "output_type": "execute_result"
    }
   ],
   "source": [
    "df['Age'].value_counts().sort_index()"
   ]
  },
  {
   "cell_type": "code",
   "execution_count": 18,
   "metadata": {},
   "outputs": [
    {
     "data": {
      "text/plain": [
       "0       56-65\n",
       "1       36-45\n",
       "2       46-55\n",
       "3       36-45\n",
       "4       18-25\n",
       "        ...  \n",
       "9995    56-65\n",
       "9996    36-45\n",
       "9997    46-55\n",
       "9998    18-25\n",
       "9999    46-55\n",
       "Name: yas_gruplari, Length: 10000, dtype: category\n",
       "Categories (5, object): ['18-25' < '26-35' < '36-45' < '46-55' < '56-65']"
      ]
     },
     "execution_count": 18,
     "metadata": {},
     "output_type": "execute_result"
    }
   ],
   "source": [
    "df['yas_gruplari'] = pd.cut(df['Age'], [18,25,35,45,55,65], labels=[\"18-25\", \"26-35\", \"36-45\", \"46-55\", \"56-65\"])\n",
    "df['yas_gruplari']"
   ]
  },
  {
   "cell_type": "markdown",
   "metadata": {},
   "source": [
    "# 2. Özellik Mühendisliği\n",
    "\n",
    "çalışanın aylık maaşı ile şirkette kaç yıl çalıştığının oranını alırsak bu çalışanın hakkında daha fazla bilgiye erişebiliriz."
   ]
  },
  {
   "cell_type": "code",
   "execution_count": 19,
   "metadata": {},
   "outputs": [
    {
     "data": {
      "text/plain": [
       "0        2364.011705\n",
       "1        6779.250000\n",
       "2        5284.261458\n",
       "3        3608.114286\n",
       "4        1341.589744\n",
       "            ...     \n",
       "9995    15408.500000\n",
       "9996    27637.750000\n",
       "9997    39489.000000\n",
       "9998    15145.500000\n",
       "9999     1887.294118\n",
       "Name: yillik_maas, Length: 10000, dtype: float64"
      ]
     },
     "execution_count": 19,
     "metadata": {},
     "output_type": "execute_result"
    }
   ],
   "source": [
    "df['yillik_maas']=(df['Salary'] / df['Years_at_Company'])\n",
    "df['yillik_maas']"
   ]
  },
  {
   "cell_type": "code",
   "execution_count": 20,
   "metadata": {},
   "outputs": [
    {
     "data": {
      "text/plain": [
       "array(['Senior', 'Manager', 'Intern', 'Junior', 'Team Lead'], dtype=object)"
      ]
     },
     "execution_count": 20,
     "metadata": {},
     "output_type": "execute_result"
    }
   ],
   "source": [
    "df['Position'].unique()"
   ]
  },
  {
   "cell_type": "markdown",
   "metadata": {},
   "source": [
    "# 3. Özellik mühendisliği \n",
    "\n",
    "var olan veri çeşidi içerisinde sadece ihtiyaç duyulan kısıtlı bilgiye erişim sağlanmak istenirse veri mühendisliği kullanılması gerekir. \n",
    "Position içerisinden sadece Senior olanları almak için veri mühendisliği yapalım."
   ]
  },
  {
   "cell_type": "code",
   "execution_count": 21,
   "metadata": {},
   "outputs": [
    {
     "data": {
      "text/plain": [
       "0       1\n",
       "1       1\n",
       "2       0\n",
       "3       0\n",
       "4       1\n",
       "       ..\n",
       "9995    1\n",
       "9996    0\n",
       "9997    0\n",
       "9998    1\n",
       "9999    0\n",
       "Name: senyor_mu, Length: 10000, dtype: int64"
      ]
     },
     "execution_count": 21,
     "metadata": {},
     "output_type": "execute_result"
    }
   ],
   "source": [
    "df['senyor_mu']= np.where(df['Position'].isin(['Manager', 'Team Lead', 'Senior']),1,0) #eğer seinor'da bunlar varsa 1 yaz yoksa 0 yaz.\n",
    "df['senyor_mu']"
   ]
  },
  {
   "cell_type": "markdown",
   "metadata": {},
   "source": [
    "# 4. Özellik Mühendisliği"
   ]
  },
  {
   "cell_type": "markdown",
   "metadata": {},
   "source": [
    "2'den çok sütunlar arasında sorular sorarak ve soruların cevapları olarak ilişki kurma yöntemine ağaçlandırma modeli denir. bu şekilde çok kapsamlı bir mühendislikle yeni sütunlar oluşturulabilir. "
   ]
  },
  {
   "cell_type": "code",
   "execution_count": 22,
   "metadata": {},
   "outputs": [
    {
     "data": {
      "text/plain": [
       "array(['Divorced', 'Single', 'Married'], dtype=object)"
      ]
     },
     "execution_count": 22,
     "metadata": {},
     "output_type": "execute_result"
    }
   ],
   "source": [
    "df['Marital_Status'].unique()"
   ]
  },
  {
   "cell_type": "code",
   "execution_count": 23,
   "metadata": {},
   "outputs": [
    {
     "data": {
      "text/plain": [
       "Has_Children\n",
       "True     5007\n",
       "False    4993\n",
       "Name: count, dtype: int64"
      ]
     },
     "execution_count": 23,
     "metadata": {},
     "output_type": "execute_result"
    }
   ],
   "source": [
    "df['Has_Children'].value_counts()"
   ]
  },
  {
   "cell_type": "code",
   "execution_count": 24,
   "metadata": {},
   "outputs": [
    {
     "data": {
      "text/plain": [
       "aile_durumu\n",
       "diğerleri               8289\n",
       "evli ve çocuk sahibi    1711\n",
       "Name: count, dtype: int64"
      ]
     },
     "execution_count": 24,
     "metadata": {},
     "output_type": "execute_result"
    }
   ],
   "source": [
    "df['aile_durumu']= np.where((df['Marital_Status']== 'Married') &(df['Has_Children']), 'evli ve çocuk sahibi', 'diğerleri')\n",
    "df['aile_durumu'].value_counts()"
   ]
  },
  {
   "cell_type": "markdown",
   "metadata": {},
   "source": [
    "# 5. Özellik Mühendisliği"
   ]
  },
  {
   "cell_type": "markdown",
   "metadata": {},
   "source": [
    "hastalık bahanesiyle uzaktan çalışanlara bakalım. dolandırıcılık (freud) analiz için kullanılır."
   ]
  },
  {
   "cell_type": "code",
   "execution_count": 25,
   "metadata": {},
   "outputs": [
    {
     "data": {
      "text/plain": [
       "0        True\n",
       "1       False\n",
       "2       False\n",
       "3        True\n",
       "4       False\n",
       "        ...  \n",
       "9995    False\n",
       "9996     True\n",
       "9997    False\n",
       "9998     True\n",
       "9999     True\n",
       "Name: Remote_Work, Length: 10000, dtype: bool"
      ]
     },
     "execution_count": 25,
     "metadata": {},
     "output_type": "execute_result"
    }
   ],
   "source": [
    "df['Remote_Work'] #uzaktan çalışıyorsa True çalışmıyorsa False verir."
   ]
  },
  {
   "cell_type": "markdown",
   "metadata": {},
   "source": [
    "# uzakta çalışanların hasta oldukları günlerin oranlarına bakalım"
   ]
  },
  {
   "cell_type": "code",
   "execution_count": 26,
   "metadata": {},
   "outputs": [
    {
     "data": {
      "text/html": [
       "<div>\n",
       "<style scoped>\n",
       "    .dataframe tbody tr th:only-of-type {\n",
       "        vertical-align: middle;\n",
       "    }\n",
       "\n",
       "    .dataframe tbody tr th {\n",
       "        vertical-align: top;\n",
       "    }\n",
       "\n",
       "    .dataframe thead th {\n",
       "        text-align: right;\n",
       "    }\n",
       "</style>\n",
       "<table border=\"1\" class=\"dataframe\">\n",
       "  <thead>\n",
       "    <tr style=\"text-align: right;\">\n",
       "      <th></th>\n",
       "      <th>Name</th>\n",
       "      <th>Sick_Days_in_Last_Year</th>\n",
       "      <th>Working_Hours_per_Week</th>\n",
       "      <th>uzaktan_calisanlarin_hastalik_orani</th>\n",
       "    </tr>\n",
       "  </thead>\n",
       "  <tbody>\n",
       "    <tr>\n",
       "      <th>0</th>\n",
       "      <td>Hüseyin</td>\n",
       "      <td>0</td>\n",
       "      <td>31</td>\n",
       "      <td>1.000000</td>\n",
       "    </tr>\n",
       "    <tr>\n",
       "      <th>1</th>\n",
       "      <td>Fatma</td>\n",
       "      <td>10</td>\n",
       "      <td>45</td>\n",
       "      <td>0.000000</td>\n",
       "    </tr>\n",
       "    <tr>\n",
       "      <th>2</th>\n",
       "      <td>Ali</td>\n",
       "      <td>8</td>\n",
       "      <td>47</td>\n",
       "      <td>0.000000</td>\n",
       "    </tr>\n",
       "    <tr>\n",
       "      <th>3</th>\n",
       "      <td>Hüseyin</td>\n",
       "      <td>6</td>\n",
       "      <td>47</td>\n",
       "      <td>1.127660</td>\n",
       "    </tr>\n",
       "    <tr>\n",
       "      <th>4</th>\n",
       "      <td>Mehmet</td>\n",
       "      <td>13</td>\n",
       "      <td>42</td>\n",
       "      <td>0.000000</td>\n",
       "    </tr>\n",
       "    <tr>\n",
       "      <th>...</th>\n",
       "      <td>...</td>\n",
       "      <td>...</td>\n",
       "      <td>...</td>\n",
       "      <td>...</td>\n",
       "    </tr>\n",
       "    <tr>\n",
       "      <th>9995</th>\n",
       "      <td>Fatma</td>\n",
       "      <td>6</td>\n",
       "      <td>53</td>\n",
       "      <td>0.000000</td>\n",
       "    </tr>\n",
       "    <tr>\n",
       "      <th>9996</th>\n",
       "      <td>Mehmet</td>\n",
       "      <td>2</td>\n",
       "      <td>53</td>\n",
       "      <td>1.037736</td>\n",
       "    </tr>\n",
       "    <tr>\n",
       "      <th>9997</th>\n",
       "      <td>Emine</td>\n",
       "      <td>4</td>\n",
       "      <td>59</td>\n",
       "      <td>0.000000</td>\n",
       "    </tr>\n",
       "    <tr>\n",
       "      <th>9998</th>\n",
       "      <td>Emine</td>\n",
       "      <td>2</td>\n",
       "      <td>57</td>\n",
       "      <td>1.035088</td>\n",
       "    </tr>\n",
       "    <tr>\n",
       "      <th>9999</th>\n",
       "      <td>Ali</td>\n",
       "      <td>9</td>\n",
       "      <td>45</td>\n",
       "      <td>1.200000</td>\n",
       "    </tr>\n",
       "  </tbody>\n",
       "</table>\n",
       "<p>10000 rows × 4 columns</p>\n",
       "</div>"
      ],
      "text/plain": [
       "         Name  Sick_Days_in_Last_Year  Working_Hours_per_Week  \\\n",
       "0     Hüseyin                       0                      31   \n",
       "1       Fatma                      10                      45   \n",
       "2         Ali                       8                      47   \n",
       "3     Hüseyin                       6                      47   \n",
       "4      Mehmet                      13                      42   \n",
       "...       ...                     ...                     ...   \n",
       "9995    Fatma                       6                      53   \n",
       "9996   Mehmet                       2                      53   \n",
       "9997    Emine                       4                      59   \n",
       "9998    Emine                       2                      57   \n",
       "9999      Ali                       9                      45   \n",
       "\n",
       "      uzaktan_calisanlarin_hastalik_orani  \n",
       "0                                1.000000  \n",
       "1                                0.000000  \n",
       "2                                0.000000  \n",
       "3                                1.127660  \n",
       "4                                0.000000  \n",
       "...                                   ...  \n",
       "9995                             0.000000  \n",
       "9996                             1.037736  \n",
       "9997                             0.000000  \n",
       "9998                             1.035088  \n",
       "9999                             1.200000  \n",
       "\n",
       "[10000 rows x 4 columns]"
      ]
     },
     "execution_count": 26,
     "metadata": {},
     "output_type": "execute_result"
    }
   ],
   "source": [
    "#eğer çalışan uzaktan çalışıyorsa uzaktan çalışma/hastalık günlerinin oranlarına bakıp, çalışma verimliliğini buluyoruz.\n",
    "df['uzaktan_calisanlarin_hastalik_orani']= np.where(df['Remote_Work'], (df['Sick_Days_in_Last_Year']/ df['Working_Hours_per_Week']+1), 0)# hasta olduğu süre ile çalıştığı süreye bölüp oranı buluyoruz.\n",
    "df[['Name', 'Sick_Days_in_Last_Year', 'Working_Hours_per_Week','uzaktan_calisanlarin_hastalik_orani']]"
   ]
  },
  {
   "cell_type": "markdown",
   "metadata": {},
   "source": [
    "# açıklama\n",
    "az gün hasta olan 1.3 gösterdi.\n",
    "çok gün hasta olan 1.5 gösterdi. \n",
    "\n",
    "10 gün hasta olan 40 saat çalışanın oranı 1.25\n",
    "10 gün hasta olan 30 saat çalışanın oranı 1.33\n",
    "\n",
    "1'den sonra değer ne kadar fazla yükselirse çalışanın hastalık bahanesiyle uzaktan çalışma ihtimali doğru orantılı bir şekilde artıyor."
   ]
  },
  {
   "cell_type": "markdown",
   "metadata": {},
   "source": [
    "# 6. Özellik Mühendisliği\n"
   ]
  },
  {
   "cell_type": "markdown",
   "metadata": {},
   "source": [
    "cinsiyetler göre bir gruplama yapılıp ve hangi cinsiyetin 'uzaktan_calisanlarin_hastalik_orani'  ortalamasını alarak cinsiyetin tembellik ile ilgili bir ilişkisi var mı? yorumlayacağız."
   ]
  },
  {
   "cell_type": "code",
   "execution_count": 27,
   "metadata": {},
   "outputs": [
    {
     "name": "stdout",
     "output_type": "stream",
     "text": [
      "Gender\n",
      "Female    0.604254\n",
      "Male      0.597908\n",
      "Name: uzaktan_calisanlarin_hastalik_orani, dtype: float64\n"
     ]
    }
   ],
   "source": [
    "tembellik_orani= df.groupby('Gender')['uzaktan_calisanlarin_hastalik_orani'].mean()\n",
    "print(tembellik_orani)"
   ]
  },
  {
   "cell_type": "markdown",
   "metadata": {},
   "source": [
    "# korelasyon: sütunlar arasında ilişkiye bakma durumu "
   ]
  },
  {
   "cell_type": "markdown",
   "metadata": {},
   "source": [
    "kolerasyon sütunların birbiriyle olan ilişkilerini gösterin, eğer aralarında doğru orantılı bir ilişki varsa burada kolerasyon katsayısı yüksektir ve sıcak renkler gözükür.\n",
    "ters orantı var kolerasyon katsayısı düşüktür ve soğuk renkler gözükür.\n",
    "\n",
    "**kolerayon kullanma senaryoları**\n",
    "\n",
    "Özellik Mühendisliğinden sonra yeni oluşturulan sütunlar diğer sütunlarla ilişkisini inceledikten sonra özellik mühendisliğinin kalitesi ölçülür.\n",
    "\n",
    "verileri kapsamlı bir şekilde incelemek için bütün sütunlar arasındaki ilişkilere bakılır."
   ]
  },
  {
   "cell_type": "code",
   "execution_count": 28,
   "metadata": {},
   "outputs": [
    {
     "data": {
      "text/plain": [
       "<Axes: >"
      ]
     },
     "execution_count": 28,
     "metadata": {},
     "output_type": "execute_result"
    },
    {
     "data": {
      "image/png": "[encoded data removed]",
      "text/plain": [
       "<Figure size 1200x800 with 2 Axes>"
      ]
     },
     "metadata": {},
     "output_type": "display_data"
    }
   ],
   "source": [
    "#korelasyon matrisi \n",
    "plt.figure(figsize=(12,8))\n",
    "sns.heatmap(df[numeric_sutunlar].corr(), annot=True, cmap='coolwarm')  "
   ]
  },
  {
   "cell_type": "markdown",
   "metadata": {},
   "source": [
    "# yaş aralıklarını görselleştirme"
   ]
  },
  {
   "cell_type": "code",
   "execution_count": 29,
   "metadata": {},
   "outputs": [
    {
     "data": {
      "text/plain": [
       "Index(['Employee_ID', 'Name', 'Age', 'Gender', 'Department', 'Position',\n",
       "       'Years_at_Company', 'Salary', 'Education_Level', 'Performance_Score',\n",
       "       'Marital_Status', 'Has_Children', 'Working_Hours_per_Week',\n",
       "       'Remote_Work', 'Sick_Days_in_Last_Year', 'Promotion_Last_5_Years',\n",
       "       'Left_Company', 'Work_Life_Balance_Score', 'Job_Satisfaction_Score',\n",
       "       'Previous_Employer_Count', 'Favorite_Color', 'Hobby',\n",
       "       'Estimated_Annual_Bonus', 'yas_gruplari', 'yillik_maas', 'senyor_mu',\n",
       "       'aile_durumu', 'uzaktan_calisanlarin_hastalik_orani'],\n",
       "      dtype='object')"
      ]
     },
     "execution_count": 29,
     "metadata": {},
     "output_type": "execute_result"
    }
   ],
   "source": [
    "df.columns"
   ]
  },
  {
   "cell_type": "code",
   "execution_count": 30,
   "metadata": {},
   "outputs": [
    {
     "data": {
      "text/plain": [
       "Text(0, 0.5, 'frekanslar')"
      ]
     },
     "execution_count": 30,
     "metadata": {},
     "output_type": "execute_result"
    },
    {
     "data": {
      "image/png": "[encoded data removed]",
      "text/plain": [
       "<Figure size 1000x600 with 1 Axes>"
      ]
     },
     "metadata": {},
     "output_type": "display_data"
    }
   ],
   "source": [
    "plt.figure(figsize=(10,6))\n",
    "sns.countplot(data=df, x= 'yas_gruplari', order=[\"18-25\", \"26-35\", \"36-45\", \"46-55\",\"56-65\"])\n",
    "plt.title('yaş dağıtımları')\n",
    "plt.xlabel('yaş grupları')\n",
    "plt.ylabel('frekanslar')"
   ]
  },
  {
   "cell_type": "markdown",
   "metadata": {},
   "source": [
    "şirkete 18-25 yaş arası genç çalışanları almak şirketin vizyonu doğrutlusunda doğru bir sonuç olacak. Bunun için şirketten 500-600 kişi 56-65 yaş arasındaki kişileri emekli edebiliriz. "
   ]
  },
  {
   "cell_type": "markdown",
   "metadata": {},
   "source": [
    "# şirket çalışanlarının şirkete olan bağlılık seviyesinin dağılımına bakalım.\n"
   ]
  },
  {
   "cell_type": "code",
   "execution_count": 31,
   "metadata": {},
   "outputs": [
    {
     "data": {
      "text/plain": [
       "0        2364.011705\n",
       "1        6779.250000\n",
       "2        5284.261458\n",
       "3        3608.114286\n",
       "4        1341.589744\n",
       "            ...     \n",
       "9995    15408.500000\n",
       "9996    27637.750000\n",
       "9997    39489.000000\n",
       "9998    15145.500000\n",
       "9999     1887.294118\n",
       "Name: Aidiyetlik_Miktarı, Length: 10000, dtype: float64"
      ]
     },
     "execution_count": 31,
     "metadata": {},
     "output_type": "execute_result"
    }
   ],
   "source": [
    "df['Aidiyetlik_Miktarı'] = (df['Salary'] / df['Years_at_Company'])\n",
    "df['Aidiyetlik_Miktarı']"
   ]
  },
  {
   "cell_type": "code",
   "execution_count": 32,
   "metadata": {},
   "outputs": [
    {
     "data": {
      "text/plain": [
       "Index(['Employee_ID', 'Name', 'Age', 'Gender', 'Department', 'Position',\n",
       "       'Years_at_Company', 'Salary', 'Education_Level', 'Performance_Score',\n",
       "       'Marital_Status', 'Has_Children', 'Working_Hours_per_Week',\n",
       "       'Remote_Work', 'Sick_Days_in_Last_Year', 'Promotion_Last_5_Years',\n",
       "       'Left_Company', 'Work_Life_Balance_Score', 'Job_Satisfaction_Score',\n",
       "       'Previous_Employer_Count', 'Favorite_Color', 'Hobby',\n",
       "       'Estimated_Annual_Bonus', 'yas_gruplari', 'yillik_maas', 'senyor_mu',\n",
       "       'aile_durumu', 'uzaktan_calisanlarin_hastalik_orani',\n",
       "       'Aidiyetlik_Miktarı'],\n",
       "      dtype='object')"
      ]
     },
     "execution_count": 32,
     "metadata": {},
     "output_type": "execute_result"
    }
   ],
   "source": [
    "df.columns"
   ]
  },
  {
   "cell_type": "code",
   "execution_count": 38,
   "metadata": {},
   "outputs": [
    {
     "data": {
      "image/png": "[encoded data removed]",
      "text/plain": [
       "<Figure size 1500x1000 with 2 Axes>"
      ]
     },
     "metadata": {},
     "output_type": "display_data"
    }
   ],
   "source": [
    "plt.figure(figsize=(15,10))\n",
    "plt.subplot(1,2,1)\n",
    "sns.histplot(df['Aidiyetlik_Miktarı'], kde=True, bins=30, color='blue')\n",
    "plt.title('şirkete bağlılık oran dağılımı')\n",
    "plt.xlabel('şirkete baplılık oranı')\n",
    "plt.ylabel('frekans')\n",
    "\n",
    "#1.satırın 2.sütun grafiğini ekledik\n",
    "plt.subplot(1,2,2)\n",
    "sns.boxplot(x=df['Aidiyetlik_Miktarı'], color='Orange')\n",
    "plt.title('şirkete bağlılık oran dağılımının istatiksel bilgisi')\n",
    "plt.xlabel('şirkeyte bağlılık oranı')\n",
    "plt.show()"
   ]
  },
  {
   "cell_type": "markdown",
   "metadata": {},
   "source": [
    "50000 kazanıyorum 25 yıl boyunca çalıştım aidiyetlik oranım 2000\n",
    "30000 kazanıyorum 25 yıl boyunca çalıştım aidiyetlik oranım 1200\n",
    "\n",
    "60000 kazanıyorum 15 yıl boyunca çalıştım aidiyetlik oranım 4000 \n",
    "60000 kazanıyorum 5 yıl boyunca çalıştım aidiyetlik oranım 12000"
   ]
  },
  {
   "cell_type": "markdown",
   "metadata": {},
   "source": [
    "**kurumda kendini aidiyetlik yoksunu hisseden kişiler için toplantılar yapılıp var olan sorunların çözülmesi için tavsiye verebiliriz.**\n"
   ]
  },
  {
   "cell_type": "markdown",
   "metadata": {},
   "source": [
    "# şirketteki uzman kişilerin yüzdesini görüntüleme."
   ]
  },
  {
   "cell_type": "code",
   "execution_count": 39,
   "metadata": {},
   "outputs": [
    {
     "data": {
      "text/plain": [
       "Index(['Employee_ID', 'Name', 'Age', 'Gender', 'Department', 'Position',\n",
       "       'Years_at_Company', 'Salary', 'Education_Level', 'Performance_Score',\n",
       "       'Marital_Status', 'Has_Children', 'Working_Hours_per_Week',\n",
       "       'Remote_Work', 'Sick_Days_in_Last_Year', 'Promotion_Last_5_Years',\n",
       "       'Left_Company', 'Work_Life_Balance_Score', 'Job_Satisfaction_Score',\n",
       "       'Previous_Employer_Count', 'Favorite_Color', 'Hobby',\n",
       "       'Estimated_Annual_Bonus', 'yas_gruplari', 'yillik_maas', 'senyor_mu',\n",
       "       'aile_durumu', 'uzaktan_calisanlarin_hastalik_orani',\n",
       "       'Aidiyetlik_Miktarı'],\n",
       "      dtype='object')"
      ]
     },
     "execution_count": 39,
     "metadata": {},
     "output_type": "execute_result"
    }
   ],
   "source": [
    "df.columns"
   ]
  },
  {
   "cell_type": "code",
   "execution_count": 56,
   "metadata": {},
   "outputs": [
    {
     "data": {
      "image/png": "[encoded data removed]",
      "text/plain": [
       "<Figure size 1000x1000 with 1 Axes>"
      ]
     },
     "metadata": {},
     "output_type": "display_data"
    }
   ],
   "source": [
    "senyor_sayisi=df['senyor_mu'].value_counts()\n",
    "plt.figure(figsize=(10,10))\n",
    "plt.pie(\n",
    "    senyor_sayisi,\n",
    "    labels =['senyorler', 'junior ve stajyerler'],\n",
    "    colors=['skyblue','Orange'],\n",
    "    startangle=90,\n",
    "    explode=[0.1,0],\n",
    ")\n",
    "plt.title('senyörlerin şirketteki dağılımı')\n",
    "plt.show()"
   ]
  },
  {
   "cell_type": "markdown",
   "metadata": {},
   "source": [
    "şirkette yaşlı kişi sayısı çok olduğundan ve bu kişiler senior ve aidiyeti düşük insanlar olduğundan bu kişilerin %40'nı kadar emekli edip bunların yerlerine junior ve stajyerlerden alıp aidiyeti yüksek senior kişilerin altında yetişmelerini sağlamak, yeni startuplar için bir oluşum yapılmasını tavsiye ederiz."
   ]
  }
 ],
 "metadata": {
  "kernelspec": {
   "display_name": "Python 3",
   "language": "python",
   "name": "python3"
  },
  "language_info": {
   "codemirror_mode": {
    "name": "ipython",
    "version": 3
   },
   "file_extension": ".py",
   "mimetype": "text/x-python",
   "name": "python",
   "nbconvert_exporter": "python",
   "pygments_lexer": "ipython3",
   "version": "3.12.1"
  }
 },
 "nbformat": 4,
 "nbformat_minor": 2
}
